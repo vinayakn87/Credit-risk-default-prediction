{
 "cells": [
  {
   "cell_type": "markdown",
   "metadata": {},
   "source": [
    "### Problem statement and data overview\n",
    "\n",
    "The data for this project has been taken from Kaggle competition **[Home credit default risk](https://www.kaggle.com/c/home-credit-default-risk)**. The objective of this competition was to use data from various sources like credit bureau, previous loan applications, previous loan performance, and current application data in order to predict the probability of default of the applicant. The output of this model (in form of scores or risk bands) can then be used to make a credit decision (approve/reject) regarding the application. \n",
    "\n",
    "In this notebook we focus on importing all the datasets and understanding the data. We will create features from each of these datasets and map these onto our training data which will be evantually used to fit the model."
   ]
  },
  {
   "cell_type": "code",
   "execution_count": 67,
   "metadata": {},
   "outputs": [],
   "source": [
    "import pandas as pd\n",
    "import numpy as np\n",
    "from matplotlib import pyplot as plt\n",
    "import seaborn as sns\n",
    "from scipy import stats\n",
    "pd.options.display.max_columns = None\n",
    "\n",
    "import warnings\n",
    "warnings.filterwarnings('ignore')"
   ]
  },
  {
   "cell_type": "markdown",
   "metadata": {},
   "source": [
    "### Importing train data\n",
    "\n",
    "**application_{train|test}.csv :** This is the main table, broken into two files for Train (with TARGET) and Test (without TARGET). Static data for all applications. One row represents one loan in our data sample. \"*SK_ID_CURR*\" is the primary key representing each application. We will have to rollup the data on the other datasets on this column in order to map it onto the training data."
   ]
  },
  {
   "cell_type": "code",
   "execution_count": 16,
   "metadata": {},
   "outputs": [],
   "source": [
    "application_train = pd.read_csv(\"application_train.csv\")"
   ]
  },
  {
   "cell_type": "code",
   "execution_count": 17,
   "metadata": {},
   "outputs": [
    {
     "data": {
      "text/plain": [
       "(307511, 122)"
      ]
     },
     "execution_count": 17,
     "metadata": {},
     "output_type": "execute_result"
    }
   ],
   "source": [
    "application_train.shape"
   ]
  },
  {
   "cell_type": "markdown",
   "metadata": {},
   "source": [
    "### Balance data for pos & cash loan\n",
    "\n",
    "**POS_CASH_balance.csv :** Monthly balance snapshots of previous POS (point of sales) and cash loans that the applicant had with Home Credit. This table has one row for each month of history of every previous credit in Home Credit (consumer credit and cash loans) related to loans in our sample – i.e. the table has (#loans in sample * # of relative previous credits * # of months in which we have some history observable for the previous credits) rows."
   ]
  },
  {
   "cell_type": "code",
   "execution_count": 3,
   "metadata": {},
   "outputs": [],
   "source": [
    "pos_cash_bal = pd.read_csv(\"POS_CASH_balance.csv\")"
   ]
  },
  {
   "cell_type": "code",
   "execution_count": 7,
   "metadata": {},
   "outputs": [
    {
     "name": "stdout",
     "output_type": "stream",
     "text": [
      "<class 'pandas.core.frame.DataFrame'>\n",
      "RangeIndex: 10001358 entries, 0 to 10001357\n",
      "Data columns (total 8 columns):\n",
      " #   Column                 Dtype  \n",
      "---  ------                 -----  \n",
      " 0   SK_ID_PREV             int64  \n",
      " 1   SK_ID_CURR             int64  \n",
      " 2   MONTHS_BALANCE         int64  \n",
      " 3   CNT_INSTALMENT         float64\n",
      " 4   CNT_INSTALMENT_FUTURE  float64\n",
      " 5   NAME_CONTRACT_STATUS   object \n",
      " 6   SK_DPD                 int64  \n",
      " 7   SK_DPD_DEF             int64  \n",
      "dtypes: float64(2), int64(5), object(1)\n",
      "memory usage: 610.4+ MB\n"
     ]
    }
   ],
   "source": [
    "pos_cash_bal.info()"
   ]
  },
  {
   "cell_type": "code",
   "execution_count": 8,
   "metadata": {},
   "outputs": [
    {
     "data": {
      "text/plain": [
       "(10001358, 8)"
      ]
     },
     "execution_count": 8,
     "metadata": {},
     "output_type": "execute_result"
    }
   ],
   "source": [
    "pos_cash_bal.shape"
   ]
  },
  {
   "cell_type": "code",
   "execution_count": 11,
   "metadata": {},
   "outputs": [
    {
     "name": "stdout",
     "output_type": "stream",
     "text": [
      "Unique prev ids in the pos cash bal:  936325\n",
      "Unique curr ids in the pos cash bal:  337252\n"
     ]
    }
   ],
   "source": [
    "print('Unique prev ids in the pos cash bal: ', len(pos_cash_bal.SK_ID_PREV.unique()))\n",
    "print('Unique curr ids in the pos cash bal: ', len(pos_cash_bal.SK_ID_CURR.unique()))"
   ]
  },
  {
   "cell_type": "code",
   "execution_count": 19,
   "metadata": {},
   "outputs": [
    {
     "data": {
      "text/plain": [
       "'Curr IDs from credit pos cash balance present in train set: 289444'"
      ]
     },
     "execution_count": 19,
     "metadata": {},
     "output_type": "execute_result"
    }
   ],
   "source": [
    "'Curr IDs from credit pos cash balance present in train set: {0}'. \\\n",
    "format(len(pos_cash_bal[pos_cash_bal.SK_ID_CURR.isin(application_train.SK_ID_CURR)]['SK_ID_CURR'].unique()))"
   ]
  },
  {
   "cell_type": "markdown",
   "metadata": {},
   "source": [
    "### POS cash loans aggregated variables\n",
    "\n",
    "Since this data gives monthly balance snapshots of the applicant on previous pos or cash loan with Home credit we can use it to generate aggregated features at **SK_ID_CURR** level. Some examples are Active loans 6/12/24/26 months prior to current loan,  Completed loans 6/12/24/26 months prior, delinquent loans 6/12/24/26 months prior. The function below creates these variables and rolls up the data on column **SK_ID_CURR**"
   ]
  },
  {
   "cell_type": "code",
   "execution_count": 28,
   "metadata": {},
   "outputs": [],
   "source": [
    "def pos_cash_lagged_features(pos_cash_bal):\n",
    "    \n",
    "    pos_cash_grpby = \\\n",
    "    pos_cash_bal.assign(\n",
    "    active_loans_curr = np.where((pos_cash_bal.MONTHS_BALANCE == -1) & (pos_cash_bal.NAME_CONTRACT_STATUS == \"Active\"),1,0),\n",
    "    active_loans_6m_prior = np.where((pos_cash_bal.MONTHS_BALANCE == -6) & (pos_cash_bal.NAME_CONTRACT_STATUS == \"Active\"),1,0),\n",
    "    active_loans_12m_prior = np.where((pos_cash_bal.MONTHS_BALANCE == -12) & (pos_cash_bal.NAME_CONTRACT_STATUS == \"Active\"),1,0),\n",
    "    active_loans_24m_prior = np.where((pos_cash_bal.MONTHS_BALANCE == -24) & (pos_cash_bal.NAME_CONTRACT_STATUS == \"Active\"),1,0),\n",
    "    active_loans_36m_prior = np.where((pos_cash_bal.MONTHS_BALANCE == -36) & (pos_cash_bal.NAME_CONTRACT_STATUS == \"Active\"),1,0),       \n",
    "    active_loans_48m_prior = np.where((pos_cash_bal.MONTHS_BALANCE == -48) & (pos_cash_bal.NAME_CONTRACT_STATUS == \"Active\"),1,0),\n",
    "\n",
    "    completed_loans_curr = np.where((pos_cash_bal.MONTHS_BALANCE == -1) & (pos_cash_bal.NAME_CONTRACT_STATUS == \"Completed\"),1,0),\n",
    "    completed_loans_6m_prior = np.where((pos_cash_bal.MONTHS_BALANCE == -6) & (pos_cash_bal.NAME_CONTRACT_STATUS == \"Completed\"),1,0),\n",
    "    completed_loans_12m_prior = np.where((pos_cash_bal.MONTHS_BALANCE == -12) & (pos_cash_bal.NAME_CONTRACT_STATUS == \"Completed\"),1,0),\n",
    "    completed_loans_24m_prior = np.where((pos_cash_bal.MONTHS_BALANCE == -24) & (pos_cash_bal.NAME_CONTRACT_STATUS == \"Completed\"),1,0),\n",
    "    completed_loans_36m_prior = np.where((pos_cash_bal.MONTHS_BALANCE == -36) & (pos_cash_bal.NAME_CONTRACT_STATUS == \"Completed\"),1,0),       \n",
    "    completed_loans_48m_prior = np.where((pos_cash_bal.MONTHS_BALANCE == -48) & (pos_cash_bal.NAME_CONTRACT_STATUS == \"Completed\"),1,0),\n",
    "\n",
    "    delq_trades_curr = np.where((pos_cash_bal.SK_DPD_DEF > 0) & (pos_cash_bal.MONTHS_BALANCE == -1), 1, 0),\n",
    "    delq_trades_6m_prior  = np.where((pos_cash_bal.SK_DPD_DEF > 0) & (pos_cash_bal.MONTHS_BALANCE == -6), 1, 0),\n",
    "    delq_trades_12m_prior = np.where((pos_cash_bal.SK_DPD_DEF > 0) & (pos_cash_bal.MONTHS_BALANCE == -12), 1, 0),\n",
    "    delq_trades_24m_prior = np.where((pos_cash_bal.SK_DPD_DEF > 0) & (pos_cash_bal.MONTHS_BALANCE == -24), 1, 0),\n",
    "    delq_trades_36m_prior = np.where((pos_cash_bal.SK_DPD_DEF > 0) & (pos_cash_bal.MONTHS_BALANCE == -36), 1, 0),\n",
    "    delq_trades_48m_prior = np.where((pos_cash_bal.SK_DPD_DEF > 0) & (pos_cash_bal.MONTHS_BALANCE == -48), 1, 0)\n",
    "    )\n",
    "\n",
    "    pos_cash_grpby = \\\n",
    "    pos_cash_grpby \\\n",
    "    .groupby('SK_ID_CURR').agg({\n",
    "       \"SK_ID_PREV\" : \"nunique\",\n",
    "    \n",
    "       'active_loans_curr':\"sum\",\n",
    "       'active_loans_6m_prior' : \"sum\",\n",
    "       'active_loans_12m_prior' : \"sum\",\n",
    "       'active_loans_24m_prior' : \"sum\",\n",
    "       'active_loans_36m_prior' : \"sum\",\n",
    "       'active_loans_48m_prior' : \"sum\",\n",
    "      \n",
    "       \"completed_loans_curr\": \"sum\", \n",
    "        'completed_loans_6m_prior' : \"sum\",\n",
    "        'completed_loans_12m_prior' : \"sum\",\n",
    "        'completed_loans_24m_prior' : \"sum\",\n",
    "        'completed_loans_36m_prior' : \"sum\",\n",
    "        'completed_loans_48m_prior' : \"sum\",\n",
    "      \n",
    "       'delq_trades_curr': \"sum\",\n",
    "        'delq_trades_6m_prior' : \"sum\",\n",
    "        'delq_trades_12m_prior' : \"sum\",\n",
    "        'delq_trades_24m_prior' : \"sum\",\n",
    "        'delq_trades_36m_prior' : \"sum\",\n",
    "        'delq_trades_48m_prior' : \"sum\",\n",
    "     }).reset_index()\n",
    "\n",
    "    pos_cash_grpby.rename(columns = {'SK_ID_PREV': 'total_unique_trades'},inplace=True)\n",
    "    \n",
    "    #pending installment variable\n",
    "    completed_ids = pos_cash_bal[pos_cash_bal.NAME_CONTRACT_STATUS == 'Completed']['SK_ID_PREV'].unique()\n",
    "    installment_var = pos_cash_bal[~pos_cash_bal.SK_ID_PREV.isin(completed_ids)]\n",
    "    installment_var.sort_values(['SK_ID_PREV','MONTHS_BALANCE'],ascending = [True,False],inplace=True)\n",
    "    installment_var.drop_duplicates('SK_ID_PREV', keep='first', inplace = True)\n",
    "    installment_var = installment_var.groupby('SK_ID_CURR').agg({'CNT_INSTALMENT':sum,'CNT_INSTALMENT_FUTURE':sum}).reset_index()\n",
    "    installment_var['prop_pending_installment'] = np.round(installment_var.CNT_INSTALMENT_FUTURE/installment_var.CNT_INSTALMENT,2)\n",
    "\n",
    "    return pos_cash_grpby, installment_var\n"
   ]
  },
  {
   "cell_type": "code",
   "execution_count": 69,
   "metadata": {},
   "outputs": [],
   "source": [
    "# Executing the above funtion to create agg variables\n",
    "pos_cash_grpby, installment_var = pos_cash_lagged_features(pos_cash_bal)"
   ]
  },
  {
   "cell_type": "code",
   "execution_count": 32,
   "metadata": {},
   "outputs": [
    {
     "name": "stdout",
     "output_type": "stream",
     "text": [
      "(337252, 20)\n",
      "(181772, 4)\n"
     ]
    }
   ],
   "source": [
    "print(pos_cash_grpby.shape)\n",
    "print(installment_var.shape)"
   ]
  },
  {
   "cell_type": "code",
   "execution_count": 26,
   "metadata": {},
   "outputs": [],
   "source": [
    "pos_cash_grpby.to_csv('pos_cash_grpby.csv', index = False)\n",
    "installment_var.to_csv('installment_var.csv', index = False)"
   ]
  },
  {
   "cell_type": "code",
   "execution_count": 6,
   "metadata": {},
   "outputs": [
    {
     "data": {
      "text/plain": [
       "1497"
      ]
     },
     "execution_count": 6,
     "metadata": {},
     "output_type": "execute_result"
    }
   ],
   "source": [
    "import gc\n",
    "gc.collect()"
   ]
  },
  {
   "cell_type": "markdown",
   "metadata": {},
   "source": [
    "### Balance data for credit cards\n",
    "\n",
    "**credit_card_balance.csv :** Monthly balance snapshots of previous credit cards that the applicant has with Home Credit. This table has one row for each month of history of every previous credit in Home Credit (consumer credit and cash loans) related to loans in our sample – i.e. the table has (#loans in sample * # of relative previous credit cards * # of months where we have some history observable for the previous credit card) rows."
   ]
  },
  {
   "cell_type": "code",
   "execution_count": 21,
   "metadata": {},
   "outputs": [],
   "source": [
    "credit_card_balance = pd.read_csv('credit_card_balance.csv')"
   ]
  },
  {
   "cell_type": "code",
   "execution_count": 22,
   "metadata": {},
   "outputs": [
    {
     "data": {
      "text/plain": [
       "(3840312, 23)"
      ]
     },
     "execution_count": 22,
     "metadata": {},
     "output_type": "execute_result"
    }
   ],
   "source": [
    "credit_card_balance.shape"
   ]
  },
  {
   "cell_type": "code",
   "execution_count": 23,
   "metadata": {},
   "outputs": [
    {
     "name": "stdout",
     "output_type": "stream",
     "text": [
      "<class 'pandas.core.frame.DataFrame'>\n",
      "RangeIndex: 3840312 entries, 0 to 3840311\n",
      "Data columns (total 23 columns):\n",
      " #   Column                      Non-Null Count    Dtype  \n",
      "---  ------                      --------------    -----  \n",
      " 0   SK_ID_PREV                  3840312 non-null  int64  \n",
      " 1   SK_ID_CURR                  3840312 non-null  int64  \n",
      " 2   MONTHS_BALANCE              3840312 non-null  int64  \n",
      " 3   AMT_BALANCE                 3840312 non-null  float64\n",
      " 4   AMT_CREDIT_LIMIT_ACTUAL     3840312 non-null  int64  \n",
      " 5   AMT_DRAWINGS_ATM_CURRENT    3090496 non-null  float64\n",
      " 6   AMT_DRAWINGS_CURRENT        3840312 non-null  float64\n",
      " 7   AMT_DRAWINGS_OTHER_CURRENT  3090496 non-null  float64\n",
      " 8   AMT_DRAWINGS_POS_CURRENT    3090496 non-null  float64\n",
      " 9   AMT_INST_MIN_REGULARITY     3535076 non-null  float64\n",
      " 10  AMT_PAYMENT_CURRENT         3072324 non-null  float64\n",
      " 11  AMT_PAYMENT_TOTAL_CURRENT   3840312 non-null  float64\n",
      " 12  AMT_RECEIVABLE_PRINCIPAL    3840312 non-null  float64\n",
      " 13  AMT_RECIVABLE               3840312 non-null  float64\n",
      " 14  AMT_TOTAL_RECEIVABLE        3840312 non-null  float64\n",
      " 15  CNT_DRAWINGS_ATM_CURRENT    3090496 non-null  float64\n",
      " 16  CNT_DRAWINGS_CURRENT        3840312 non-null  int64  \n",
      " 17  CNT_DRAWINGS_OTHER_CURRENT  3090496 non-null  float64\n",
      " 18  CNT_DRAWINGS_POS_CURRENT    3090496 non-null  float64\n",
      " 19  CNT_INSTALMENT_MATURE_CUM   3535076 non-null  float64\n",
      " 20  NAME_CONTRACT_STATUS        3840312 non-null  object \n",
      " 21  SK_DPD                      3840312 non-null  int64  \n",
      " 22  SK_DPD_DEF                  3840312 non-null  int64  \n",
      "dtypes: float64(15), int64(7), object(1)\n",
      "memory usage: 673.9+ MB\n"
     ]
    }
   ],
   "source": [
    "credit_card_balance.info(null_counts=True)"
   ]
  },
  {
   "cell_type": "code",
   "execution_count": 24,
   "metadata": {},
   "outputs": [
    {
     "name": "stdout",
     "output_type": "stream",
     "text": [
      "Unique prev ids in the pos cash bal:  104307\n",
      "Unique curr ids in the pos cash bal:  103558\n"
     ]
    }
   ],
   "source": [
    "print('Unique prev ids in the pos cash bal: ', len(credit_card_balance.SK_ID_PREV.unique()))\n",
    "print('Unique curr ids in the pos cash bal: ', len(credit_card_balance.SK_ID_CURR.unique()))"
   ]
  },
  {
   "cell_type": "code",
   "execution_count": 25,
   "metadata": {},
   "outputs": [
    {
     "data": {
      "text/plain": [
       "'IDs from credit card bal present in train set: 86905'"
      ]
     },
     "execution_count": 25,
     "metadata": {},
     "output_type": "execute_result"
    }
   ],
   "source": [
    "'IDs from credit card bal present in train set: {0}'. \\\n",
    "format(len(credit_card_balance[credit_card_balance.SK_ID_CURR.isin(application_train.SK_ID_CURR)]['SK_ID_CURR'].unique()))"
   ]
  },
  {
   "cell_type": "markdown",
   "metadata": {},
   "source": [
    "### CC aggregated variables\n",
    "\n",
    "Since this data gives monthly of the applicant behaviur on credit card with Home credit. This gives us month on month information on outstanding balances, dpd, utilization, drawing etc. of the customer. Some features are active cards, closed cards, min/max,avg utlization, times min amt due is unpaid."
   ]
  },
  {
   "cell_type": "code",
   "execution_count": 29,
   "metadata": {},
   "outputs": [],
   "source": [
    "def credit_card_lagged_features(credit_card_balance):\n",
    "    \n",
    "    cc_grpby = \\\n",
    "    credit_card_balance.assign(\n",
    "    active_cc_trades_curr = np.where((credit_card_balance.MONTHS_BALANCE == -1) & (credit_card_balance.NAME_CONTRACT_STATUS == \"Active\"),1,0),\n",
    "    active_cc_trades_6m_prior = np.where((credit_card_balance.MONTHS_BALANCE == -6) & (credit_card_balance.NAME_CONTRACT_STATUS == \"Active\"),1,0),\n",
    "    active_cc_trades_12m_prior = np.where((credit_card_balance.MONTHS_BALANCE == -12) & (credit_card_balance.NAME_CONTRACT_STATUS == \"Active\"),1,0),\n",
    "    active_cc_trades_24m_prior = np.where((credit_card_balance.MONTHS_BALANCE == -24) & (credit_card_balance.NAME_CONTRACT_STATUS == \"Active\"),1,0),\n",
    "    active_cc_trades_36m_prior = np.where((credit_card_balance.MONTHS_BALANCE == -36) & (credit_card_balance.NAME_CONTRACT_STATUS == \"Active\"),1,0),       \n",
    "    active_cc_trades_48m_prior = np.where((credit_card_balance.MONTHS_BALANCE == -48) & (credit_card_balance.NAME_CONTRACT_STATUS == \"Active\"),1,0),\n",
    "\n",
    "    completed_cc_trades_curr = np.where((credit_card_balance.MONTHS_BALANCE == -1) & (credit_card_balance.NAME_CONTRACT_STATUS == \"Completed\"),1,0),\n",
    "    completed_cc_trades_6m_prior = np.where((credit_card_balance.MONTHS_BALANCE == -6) & (credit_card_balance.NAME_CONTRACT_STATUS == \"Completed\"),1,0),\n",
    "    completed_cc_trades_12m_prior = np.where((credit_card_balance.MONTHS_BALANCE == -12) & (credit_card_balance.NAME_CONTRACT_STATUS == \"Completed\"),1,0),\n",
    "    completed_cc_trades_24m_prior = np.where((credit_card_balance.MONTHS_BALANCE == -24) & (credit_card_balance.NAME_CONTRACT_STATUS == \"Completed\"),1,0),\n",
    "    completed_cc_trades_36m_prior = np.where((credit_card_balance.MONTHS_BALANCE == -36) & (credit_card_balance.NAME_CONTRACT_STATUS == \"Completed\"),1,0),       \n",
    "    completed_cc_trades_48m_prior = np.where((credit_card_balance.MONTHS_BALANCE == -48) & (credit_card_balance.NAME_CONTRACT_STATUS == \"Completed\"),1,0),\n",
    "\n",
    "    delq_cc_loans_curr = np.where((credit_card_balance.SK_DPD_DEF > 0) & (credit_card_balance.MONTHS_BALANCE == -1), 1, 0),\n",
    "    delq_cc_loans_6m_prior  = np.where((credit_card_balance.SK_DPD_DEF > 0) & (credit_card_balance.MONTHS_BALANCE == -6), 1, 0),\n",
    "    delq_cc_loans_12m_prior = np.where((credit_card_balance.SK_DPD_DEF > 0) & (credit_card_balance.MONTHS_BALANCE == -12), 1, 0),\n",
    "    delq_cc_loans_24m_prior = np.where((credit_card_balance.SK_DPD_DEF > 0) & (credit_card_balance.MONTHS_BALANCE == -24), 1, 0),\n",
    "    delq_cc_loans_36m_prior = np.where((credit_card_balance.SK_DPD_DEF > 0) & (credit_card_balance.MONTHS_BALANCE == -36), 1, 0),\n",
    "    delq_cc_loans_48m_prior = np.where((credit_card_balance.SK_DPD_DEF > 0) & (credit_card_balance.MONTHS_BALANCE == -48), 1, 0),\n",
    "\n",
    "    min_due_unpaid_prior_6m = np.where((credit_card_balance.AMT_INST_MIN_REGULARITY > credit_card_balance.AMT_PAYMENT_CURRENT) & (credit_card_balance.MONTHS_BALANCE >= -6),1,0),\n",
    "    min_due_unpaid_prior_12m = np.where((credit_card_balance.AMT_INST_MIN_REGULARITY > credit_card_balance.AMT_PAYMENT_CURRENT) & (credit_card_balance.MONTHS_BALANCE >= -12),1,0),\n",
    "    min_due_unpaid_prior_24m = np.where((credit_card_balance.AMT_INST_MIN_REGULARITY > credit_card_balance.AMT_PAYMENT_CURRENT) & (credit_card_balance.MONTHS_BALANCE >= -24),1,0),\n",
    "    min_due_unpaid_prior_36m = np.where((credit_card_balance.AMT_INST_MIN_REGULARITY > credit_card_balance.AMT_PAYMENT_CURRENT) & (credit_card_balance.MONTHS_BALANCE >= -36),1,0),\n",
    "    min_due_unpaid_prior_48m = np.where((credit_card_balance.AMT_INST_MIN_REGULARITY > credit_card_balance.AMT_PAYMENT_CURRENT) & (credit_card_balance.MONTHS_BALANCE >= -48),1,0),\n",
    "\n",
    "    util_prior_6m = np.where((credit_card_balance.MONTHS_BALANCE >= -6),   np.round(credit_card_balance.AMT_BALANCE/credit_card_balance.AMT_CREDIT_LIMIT_ACTUAL * 100, 1) ,np.nan),\n",
    "    util_prior_12m = np.where((credit_card_balance.MONTHS_BALANCE >= -12), np.round(credit_card_balance.AMT_BALANCE/credit_card_balance.AMT_CREDIT_LIMIT_ACTUAL * 100, 1) ,np.nan),    \n",
    "    util_prior_24m = np.where((credit_card_balance.MONTHS_BALANCE >= -24), np.round(credit_card_balance.AMT_BALANCE/credit_card_balance.AMT_CREDIT_LIMIT_ACTUAL * 100, 1) ,np.nan),   \n",
    "    util_prior_36m = np.where((credit_card_balance.MONTHS_BALANCE >= -36), np.round(credit_card_balance.AMT_BALANCE/credit_card_balance.AMT_CREDIT_LIMIT_ACTUAL * 100, 1) ,np.nan),   \n",
    "    util_prior_48m = np.where((credit_card_balance.MONTHS_BALANCE >= -48), np.round(credit_card_balance.AMT_BALANCE/credit_card_balance.AMT_CREDIT_LIMIT_ACTUAL * 100, 1) ,np.nan)     \n",
    "    )\n",
    "\n",
    "    cc_grpby = \\\n",
    "    cc_grpby \\\n",
    "    .groupby('SK_ID_CURR').agg({\n",
    "       \"SK_ID_PREV\" : \"nunique\",\n",
    "    \n",
    "       'active_cc_trades_curr':\"sum\",\n",
    "       'active_cc_trades_6m_prior' : \"sum\",\n",
    "       'active_cc_trades_12m_prior' : \"sum\",\n",
    "       'active_cc_trades_24m_prior' : \"sum\",\n",
    "       'active_cc_trades_36m_prior' : \"sum\",\n",
    "       'active_cc_trades_48m_prior' : \"sum\",\n",
    "      \n",
    "        \"completed_cc_trades_curr\": \"sum\", \n",
    "        'completed_cc_trades_6m_prior' : \"sum\",\n",
    "        'completed_cc_trades_12m_prior' : \"sum\",\n",
    "        'completed_cc_trades_24m_prior' : \"sum\",\n",
    "        'completed_cc_trades_36m_prior' : \"sum\",\n",
    "        'completed_cc_trades_48m_prior' : \"sum\",\n",
    "      \n",
    "        'delq_cc_loans_curr': \"sum\",\n",
    "        'delq_cc_loans_6m_prior' : \"sum\",\n",
    "        'delq_cc_loans_12m_prior' : \"sum\",\n",
    "        'delq_cc_loans_24m_prior' : \"sum\",\n",
    "        'delq_cc_loans_36m_prior' : \"sum\",\n",
    "        'delq_cc_loans_48m_prior' : \"sum\",\n",
    "    \n",
    "        'min_due_unpaid_prior_6m' : 'sum',\n",
    "        'min_due_unpaid_prior_12m' : 'sum',\n",
    "        'min_due_unpaid_prior_24m' : 'sum',\n",
    "        'min_due_unpaid_prior_36m' : 'sum',\n",
    "        'min_due_unpaid_prior_48m' : 'sum',\n",
    "    \n",
    "        'util_prior_6m'  : ['mean','max','min'],\n",
    "        'util_prior_12m' : ['mean','max','min'],\n",
    "        'util_prior_24m' : ['mean','max','min'],\n",
    "        'util_prior_36m' : ['mean','max','min'],\n",
    "        'util_prior_48m' : ['mean','max','min']\n",
    "    \n",
    "     })\n",
    "\n",
    "    cc_grpby.rename(columns = {'SK_ID_PREV': 'total_unique_cc_trades'},inplace=True)\n",
    "    \n",
    "    cols = ['_'.join(x) for x in cc_grpby.columns.ravel()]\n",
    "    cols1 = [col.replace(\"_sum\", \"\") for col in cols]\n",
    "    cols2 = [col.replace(\"_nunique\", \"\") for col in cols1]\n",
    "    \n",
    "    cc_grpby.columns = cols2\n",
    "    cc_grpby = cc_grpby.reset_index()\n",
    "    \n",
    "    return cc_grpby\n"
   ]
  },
  {
   "cell_type": "code",
   "execution_count": 30,
   "metadata": {},
   "outputs": [],
   "source": [
    "cc_grpby = credit_card_lagged_features(credit_card_balance)"
   ]
  },
  {
   "cell_type": "code",
   "execution_count": 31,
   "metadata": {},
   "outputs": [
    {
     "data": {
      "text/plain": [
       "(103558, 40)"
      ]
     },
     "execution_count": 31,
     "metadata": {},
     "output_type": "execute_result"
    }
   ],
   "source": [
    "cc_grpby.shape"
   ]
  },
  {
   "cell_type": "code",
   "execution_count": null,
   "metadata": {},
   "outputs": [],
   "source": [
    "cc_grpby.to_csv('cc_grpby.csv', index = False)"
   ]
  },
  {
   "cell_type": "markdown",
   "metadata": {},
   "source": [
    "### Previous application data\n",
    "**previous_application.csv :** All previous applications for Home Credit loans of clients who have loans in our sample. There is one row for each previous application related to loans in our data sample. "
   ]
  },
  {
   "cell_type": "code",
   "execution_count": 33,
   "metadata": {},
   "outputs": [],
   "source": [
    "previous_application = pd.read_csv('previous_application.csv')"
   ]
  },
  {
   "cell_type": "code",
   "execution_count": 34,
   "metadata": {},
   "outputs": [
    {
     "data": {
      "text/plain": [
       "(1670214, 37)"
      ]
     },
     "execution_count": 34,
     "metadata": {},
     "output_type": "execute_result"
    }
   ],
   "source": [
    "previous_application.shape"
   ]
  },
  {
   "cell_type": "code",
   "execution_count": 39,
   "metadata": {},
   "outputs": [
    {
     "name": "stdout",
     "output_type": "stream",
     "text": [
      "Unique curr ids in the previous application data:  338857\n"
     ]
    }
   ],
   "source": [
    "print('Unique curr ids in the previous application data: ', len(previous_application.SK_ID_CURR.unique()))"
   ]
  },
  {
   "cell_type": "code",
   "execution_count": 59,
   "metadata": {},
   "outputs": [
    {
     "data": {
      "text/plain": [
       "'Curr ids from previous applcation data present in train data: 291057'"
      ]
     },
     "execution_count": 59,
     "metadata": {},
     "output_type": "execute_result"
    }
   ],
   "source": [
    "'Curr ids from previous applcation data present in train data: {}'\\\n",
    ".format(application_train.SK_ID_CURR.isin(previous_application.SK_ID_CURR.unique()).sum())"
   ]
  },
  {
   "cell_type": "code",
   "execution_count": 64,
   "metadata": {},
   "outputs": [
    {
     "name": "stdout",
     "output_type": "stream",
     "text": [
      "<class 'pandas.core.frame.DataFrame'>\n",
      "RangeIndex: 1670214 entries, 0 to 1670213\n",
      "Data columns (total 37 columns):\n",
      " #   Column                       Non-Null Count    Dtype  \n",
      "---  ------                       --------------    -----  \n",
      " 0   SK_ID_PREV                   1670214 non-null  int64  \n",
      " 1   SK_ID_CURR                   1670214 non-null  int64  \n",
      " 2   NAME_CONTRACT_TYPE           1670214 non-null  object \n",
      " 3   AMT_ANNUITY                  1297979 non-null  float64\n",
      " 4   AMT_APPLICATION              1670214 non-null  float64\n",
      " 5   AMT_CREDIT                   1670213 non-null  float64\n",
      " 6   AMT_DOWN_PAYMENT             774370 non-null   float64\n",
      " 7   AMT_GOODS_PRICE              1284699 non-null  float64\n",
      " 8   WEEKDAY_APPR_PROCESS_START   1670214 non-null  object \n",
      " 9   HOUR_APPR_PROCESS_START      1670214 non-null  int64  \n",
      " 10  FLAG_LAST_APPL_PER_CONTRACT  1670214 non-null  object \n",
      " 11  NFLAG_LAST_APPL_IN_DAY       1670214 non-null  int64  \n",
      " 12  RATE_DOWN_PAYMENT            774370 non-null   float64\n",
      " 13  RATE_INTEREST_PRIMARY        5951 non-null     float64\n",
      " 14  RATE_INTEREST_PRIVILEGED     5951 non-null     float64\n",
      " 15  NAME_CASH_LOAN_PURPOSE       1670214 non-null  object \n",
      " 16  NAME_CONTRACT_STATUS         1670214 non-null  object \n",
      " 17  DAYS_DECISION                1670214 non-null  int64  \n",
      " 18  NAME_PAYMENT_TYPE            1670214 non-null  object \n",
      " 19  CODE_REJECT_REASON           1670214 non-null  object \n",
      " 20  NAME_TYPE_SUITE              849809 non-null   object \n",
      " 21  NAME_CLIENT_TYPE             1670214 non-null  object \n",
      " 22  NAME_GOODS_CATEGORY          1670214 non-null  object \n",
      " 23  NAME_PORTFOLIO               1670214 non-null  object \n",
      " 24  NAME_PRODUCT_TYPE            1670214 non-null  object \n",
      " 25  CHANNEL_TYPE                 1670214 non-null  object \n",
      " 26  SELLERPLACE_AREA             1670214 non-null  int64  \n",
      " 27  NAME_SELLER_INDUSTRY         1670214 non-null  object \n",
      " 28  CNT_PAYMENT                  1297984 non-null  float64\n",
      " 29  NAME_YIELD_GROUP             1670214 non-null  object \n",
      " 30  PRODUCT_COMBINATION          1669868 non-null  object \n",
      " 31  DAYS_FIRST_DRAWING           997149 non-null   float64\n",
      " 32  DAYS_FIRST_DUE               997149 non-null   float64\n",
      " 33  DAYS_LAST_DUE_1ST_VERSION    997149 non-null   float64\n",
      " 34  DAYS_LAST_DUE                997149 non-null   float64\n",
      " 35  DAYS_TERMINATION             997149 non-null   float64\n",
      " 36  NFLAG_INSURED_ON_APPROVAL    997149 non-null   float64\n",
      "dtypes: float64(15), int64(6), object(16)\n",
      "memory usage: 471.5+ MB\n"
     ]
    }
   ],
   "source": [
    "previous_application.info()"
   ]
  },
  {
   "cell_type": "markdown",
   "metadata": {},
   "source": [
    "### Previous application grouped variables\n",
    "Here we can create aggregate features like count of previous applied/approved/rejected loans, avg ticket size/LTV/EMI/Tenor of loans, count of type of loan availed, avg time gap between two approved loans"
   ]
  },
  {
   "cell_type": "code",
   "execution_count": 43,
   "metadata": {},
   "outputs": [],
   "source": [
    "def prev_app_lagged_features(previous_application):\n",
    "    \n",
    "    previous_application_grpby = \\\n",
    "    previous_application.assign \\\n",
    "    (\n",
    "    prev_app_approved_count = np.where(previous_application.NAME_CONTRACT_STATUS == 'Approved',1,0),\n",
    "    prev_app_canceled_count = np.where(previous_application.NAME_CONTRACT_STATUS == 'Canceled',1,0),\n",
    "    prev_app_Refused_count  = np.where(previous_application.NAME_CONTRACT_STATUS.isin(['Refused','Unused offer']),1,0),\n",
    "\n",
    "    prev_app_avg_ticket_size   = np.where(previous_application.NAME_CONTRACT_STATUS == 'Approved', previous_application.AMT_CREDIT, np.NaN),\n",
    "    prev_app_avg_LTV           = np.where(previous_application.NAME_CONTRACT_STATUS == 'Approved', np.round(previous_application.AMT_APPLICATION/previous_application.AMT_GOODS_PRICE * 100,2), np.NaN),\n",
    "    prev_app_avg_EMI           = np.where(previous_application.NAME_CONTRACT_STATUS == 'Approved', previous_application.AMT_ANNUITY, np.NaN),\n",
    "    prev_app_avg_down_pmt_rate = np.where(previous_application.NAME_CONTRACT_STATUS == 'Approved', np.round(previous_application.RATE_DOWN_PAYMENT,2), np.NaN),\n",
    "    prev_app_avg_tenor         = np.where(previous_application.NAME_CONTRACT_STATUS == 'Approved', previous_application.CNT_PAYMENT, np.NaN),\n",
    "\n",
    "    prev_app_cash_loans_approved      = np.where((previous_application.NAME_CONTRACT_TYPE == 'Cash loans') & (previous_application.NAME_CONTRACT_STATUS == 'Approved'), 1, 0),\n",
    "    prev_app_consumer_loans_approved  = np.where((previous_application.NAME_CONTRACT_TYPE == 'Consumer loans') & (previous_application.NAME_CONTRACT_STATUS == 'Approved'), 1, 0),\n",
    "    prev_app_revolving_loans_approved = np.where((previous_application.NAME_CONTRACT_TYPE == 'Revolving loans') & (previous_application.NAME_CONTRACT_STATUS == 'Approved'), 1, 0),\n",
    "\n",
    "    prev_app_mode_portfolio    = np.where((previous_application.NAME_CONTRACT_STATUS == 'Approved'), previous_application.NAME_PORTFOLIO,np.NaN),    \n",
    "    prev_app_mode_channel_type = np.where((previous_application.NAME_CONTRACT_STATUS == 'Approved'), previous_application.CHANNEL_TYPE,np.NaN),\n",
    "    prev_app_mode_yield_grp    = np.where((previous_application.NAME_CONTRACT_STATUS == 'Approved'), previous_application.NAME_YIELD_GROUP,np.NaN),\n",
    "    prev_app_mode_seller_ind   = np.where((previous_application.NAME_CONTRACT_STATUS == 'Approved'), previous_application.NAME_SELLER_INDUSTRY,np.NaN)    \n",
    "\n",
    "    )\n",
    "    \n",
    "    previous_application_grpby = \\\n",
    "    previous_application_grpby.groupby('SK_ID_CURR').\\\n",
    "    agg({\n",
    "    'prev_app_approved_count': sum,\n",
    "    'prev_app_canceled_count': sum,\n",
    "    'prev_app_Refused_count' : sum,\n",
    "\n",
    "    'prev_app_avg_ticket_size'  : 'mean',\n",
    "    'prev_app_avg_LTV'          : 'mean',\n",
    "    'prev_app_avg_EMI'          : 'mean',\n",
    "    'prev_app_avg_down_pmt_rate': 'mean',\n",
    "    'prev_app_avg_tenor'        : 'mean',\n",
    "\n",
    "    'prev_app_cash_loans_approved'      : sum,\n",
    "    'prev_app_consumer_loans_approved'  : sum,\n",
    "    'prev_app_revolving_loans_approved' : sum,\n",
    "\n",
    "    'prev_app_mode_portfolio'    : lambda x: x.mode(),\n",
    "    'prev_app_mode_channel_type' : lambda x: x.mode(),\n",
    "    'prev_app_mode_yield_grp'    : lambda x: x.mode(),\n",
    "    'prev_app_mode_seller_ind'   : lambda x: x.mode()\n",
    "    })\n",
    "    \n",
    "    previous_application_grpby = previous_application_grpby.reset_index()\n",
    "    \n",
    "    trade_gap = previous_application[previous_application.NAME_CONTRACT_STATUS == 'Approved']\n",
    "    trade_gap = trade_gap[['SK_ID_CURR','SK_ID_PREV','NAME_CONTRACT_STATUS','DAYS_DECISION']].sort_values(['SK_ID_CURR','DAYS_DECISION'])\n",
    "    trade_gap['gap'] = trade_gap.groupby('SK_ID_CURR')['DAYS_DECISION'].diff()\n",
    "    \n",
    "    avg_trade_gap = trade_gap.groupby('SK_ID_CURR').agg(avg_gap = ('gap','mean')).reset_index()\n",
    "    avg_trade_gap['avg_gap'] = np.abs(avg_trade_gap.avg_gap)\n",
    "\n",
    "    return previous_application_grpby, avg_trade_gap\n",
    "    "
   ]
  },
  {
   "cell_type": "code",
   "execution_count": 44,
   "metadata": {},
   "outputs": [],
   "source": [
    "previous_application_grpby, avg_trade_gap = prev_app_lagged_features(previous_application)"
   ]
  },
  {
   "cell_type": "code",
   "execution_count": 46,
   "metadata": {},
   "outputs": [
    {
     "name": "stdout",
     "output_type": "stream",
     "text": [
      "(338857, 16)\n",
      "(337698, 2)\n"
     ]
    }
   ],
   "source": [
    "print(previous_application_grpby.shape)\n",
    "print(avg_trade_gap.shape)"
   ]
  },
  {
   "cell_type": "code",
   "execution_count": 48,
   "metadata": {},
   "outputs": [],
   "source": [
    "previous_application_grpby.to_csv('previous_application_grpby.csv', index = False)\n",
    "avg_trade_gap.to_csv('avg_trade_gap.csv',index = False)"
   ]
  },
  {
   "cell_type": "markdown",
   "metadata": {},
   "source": [
    "### Installment payment info\n",
    "\n",
    "**installments_payments.csv :** Repayment history for the previously disbursed credits in Home Credit related to the loans in our sample. There is a) one row for every payment that was made plus b) one row each for missed payment. One row is equivalent to one payment of one installment OR one installment corresponding to one payment of one previous Home Credit credit related to loans in our sample."
   ]
  },
  {
   "cell_type": "code",
   "execution_count": 47,
   "metadata": {},
   "outputs": [],
   "source": [
    "instl_pmt = pd.read_csv(\"installments_payments.csv\")"
   ]
  },
  {
   "cell_type": "code",
   "execution_count": 48,
   "metadata": {},
   "outputs": [
    {
     "data": {
      "text/plain": [
       "(13605401, 8)"
      ]
     },
     "execution_count": 48,
     "metadata": {},
     "output_type": "execute_result"
    }
   ],
   "source": [
    "instl_pmt.shape"
   ]
  },
  {
   "cell_type": "code",
   "execution_count": 49,
   "metadata": {},
   "outputs": [
    {
     "name": "stdout",
     "output_type": "stream",
     "text": [
      "Unique prev ids in the installment data: 997752\n",
      "Unique curr ids in the installment data: 339587\n"
     ]
    }
   ],
   "source": [
    "print('Unique prev ids in the installment data:', len(instl_pmt.SK_ID_PREV.unique()))\n",
    "print('Unique curr ids in the installment data:', len(instl_pmt.SK_ID_CURR.unique()))"
   ]
  },
  {
   "cell_type": "code",
   "execution_count": 61,
   "metadata": {},
   "outputs": [
    {
     "data": {
      "text/plain": [
       "'Curr ids from installment data present in train data: 291643'"
      ]
     },
     "execution_count": 61,
     "metadata": {},
     "output_type": "execute_result"
    }
   ],
   "source": [
    "'Curr ids from installment data present in train data: {}'\\\n",
    ".format(instl_pmt.drop_duplicates('SK_ID_CURR')['SK_ID_CURR'].isin(application_train.SK_ID_CURR).sum())"
   ]
  },
  {
   "cell_type": "code",
   "execution_count": 233,
   "metadata": {},
   "outputs": [
    {
     "name": "stdout",
     "output_type": "stream",
     "text": [
      "<class 'pandas.core.frame.DataFrame'>\n",
      "RangeIndex: 13605401 entries, 0 to 13605400\n",
      "Data columns (total 8 columns):\n",
      " #   Column                  Non-Null Count     Dtype  \n",
      "---  ------                  --------------     -----  \n",
      " 0   SK_ID_PREV              13605401 non-null  int64  \n",
      " 1   SK_ID_CURR              13605401 non-null  int64  \n",
      " 2   NUM_INSTALMENT_VERSION  13605401 non-null  float64\n",
      " 3   NUM_INSTALMENT_NUMBER   13605401 non-null  int64  \n",
      " 4   DAYS_INSTALMENT         13605401 non-null  float64\n",
      " 5   DAYS_ENTRY_PAYMENT      13602496 non-null  float64\n",
      " 6   AMT_INSTALMENT          13605401 non-null  float64\n",
      " 7   AMT_PAYMENT             13602496 non-null  float64\n",
      "dtypes: float64(5), int64(3)\n",
      "memory usage: 830.4 MB\n"
     ]
    }
   ],
   "source": [
    "instl_pmt.info(null_counts=True)"
   ]
  },
  {
   "cell_type": "markdown",
   "metadata": {},
   "source": [
    "### Installment aggregate variables\n",
    "\n",
    "This data is used to create aggregate variables showing payment behaviour of the customer. Some examples of features are count of late payments, partial payments, pre-payment over the past 1/12/24/36 months."
   ]
  },
  {
   "cell_type": "code",
   "execution_count": 64,
   "metadata": {},
   "outputs": [],
   "source": [
    "def installment_lagged_features(instl_pmt):\n",
    "    \n",
    "    instl_pmt_grp1 = instl_pmt.groupby(['SK_ID_PREV','SK_ID_CURR','NUM_INSTALMENT_VERSION','NUM_INSTALMENT_NUMBER']) \\\n",
    "                              .agg({'AMT_INSTALMENT':max,'AMT_PAYMENT': sum, 'DAYS_INSTALMENT':max,'DAYS_ENTRY_PAYMENT':max}) \\\n",
    "                              .reset_index()\n",
    "\n",
    "    instl_pmt_grp2 = \\\n",
    "    instl_pmt_grp1.assign(\n",
    "    times_late_pmt_past_6m  = np.where((instl_pmt_grp1.DAYS_INSTALMENT  >= -180) & (instl_pmt_grp1.DAYS_INSTALMENT < instl_pmt_grp1.DAYS_ENTRY_PAYMENT),1,0),\n",
    "    times_late_pmt_past_12m = np.where((instl_pmt_grp1.DAYS_INSTALMENT >= -365) &  (instl_pmt_grp1.DAYS_INSTALMENT < instl_pmt_grp1.DAYS_ENTRY_PAYMENT),1,0),\n",
    "    times_late_pmt_past_24m = np.where((instl_pmt_grp1.DAYS_INSTALMENT >= -730) &  (instl_pmt_grp1.DAYS_INSTALMENT < instl_pmt_grp1.DAYS_ENTRY_PAYMENT),1,0),   \n",
    "    times_late_pmt_past_36m = np.where((instl_pmt_grp1.DAYS_INSTALMENT >= -1095) & (instl_pmt_grp1.DAYS_INSTALMENT < instl_pmt_grp1.DAYS_ENTRY_PAYMENT),1,0),\n",
    "    times_late_pmt_past_48m = np.where((instl_pmt_grp1.DAYS_INSTALMENT >= -1460) & (instl_pmt_grp1.DAYS_INSTALMENT < instl_pmt_grp1.DAYS_ENTRY_PAYMENT),1,0),\n",
    "\n",
    "    times_partial_pmt_6m = np.where((instl_pmt_grp1.DAYS_INSTALMENT  >= -180) &  (round(instl_pmt_grp1.AMT_PAYMENT, 2)  < round(instl_pmt_grp1.AMT_INSTALMENT,2)),1,0),\n",
    "    times_partial_pmt_12m = np.where((instl_pmt_grp1.DAYS_INSTALMENT >= -365) &  (round(instl_pmt_grp1.AMT_PAYMENT, 2)  < round(instl_pmt_grp1.AMT_INSTALMENT,2)),1,0),    \n",
    "    times_partial_pmt_24m = np.where((instl_pmt_grp1.DAYS_INSTALMENT >= -730) &  (round(instl_pmt_grp1.AMT_PAYMENT, 2)  < round(instl_pmt_grp1.AMT_INSTALMENT,2)),1,0),    \n",
    "    times_partial_pmt_36m = np.where((instl_pmt_grp1.DAYS_INSTALMENT >= -1095) & (round(instl_pmt_grp1.AMT_PAYMENT, 2)  < round(instl_pmt_grp1.AMT_INSTALMENT,2)),1,0),    \n",
    "    times_partial_pmt_48m = np.where((instl_pmt_grp1.DAYS_INSTALMENT >= -1460) & (round(instl_pmt_grp1.AMT_PAYMENT, 2)  < round(instl_pmt_grp1.AMT_INSTALMENT,2)),1,0),\n",
    "\n",
    "    times_pre_pmt_6m = np.where((instl_pmt_grp1.DAYS_INSTALMENT  >= -180) & (round(instl_pmt_grp1.AMT_PAYMENT, 2)  > round(instl_pmt_grp1.AMT_INSTALMENT,2)),1,0),\n",
    "    times_pre_pmt_12m = np.where((instl_pmt_grp1.DAYS_INSTALMENT >= -365) & (round(instl_pmt_grp1.AMT_PAYMENT, 2)  > round(instl_pmt_grp1.AMT_INSTALMENT,2)),1,0),    \n",
    "    times_pre_pmt_24m = np.where((instl_pmt_grp1.DAYS_INSTALMENT >= -730) & (round(instl_pmt_grp1.AMT_PAYMENT, 2)  > round(instl_pmt_grp1.AMT_INSTALMENT,2)),1,0),    \n",
    "    times_pre_pmt_36m = np.where((instl_pmt_grp1.DAYS_INSTALMENT >= -1095) & (round(instl_pmt_grp1.AMT_PAYMENT, 2) > round(instl_pmt_grp1.AMT_INSTALMENT,2)),1,0),    \n",
    "    times_pre_pmt_48m = np.where((instl_pmt_grp1.DAYS_INSTALMENT >= -1460) & (round(instl_pmt_grp1.AMT_PAYMENT, 2) > round(instl_pmt_grp1.AMT_INSTALMENT,2)),1,0)\n",
    "    )\n",
    "    \n",
    "    instl_pmt_grp2 = \\\n",
    "    instl_pmt_grp2.groupby(['SK_ID_CURR']). \\\n",
    "    agg({\n",
    "    'times_late_pmt_past_6m'  : sum, \n",
    "    'times_late_pmt_past_12m' : sum,\n",
    "    'times_late_pmt_past_24m' : sum,\n",
    "    'times_late_pmt_past_36m' : sum,\n",
    "    'times_late_pmt_past_48m' : sum,\n",
    "\n",
    "    'times_partial_pmt_6m'  : sum,\n",
    "    'times_partial_pmt_12m' : sum,\n",
    "    'times_partial_pmt_24m' : sum,\n",
    "    'times_partial_pmt_36m' : sum,\n",
    "    'times_partial_pmt_48m' : sum,\n",
    "\n",
    "    'times_pre_pmt_6m' : sum,\n",
    "    'times_pre_pmt_12m' : sum,\n",
    "    'times_pre_pmt_24m' : sum,\n",
    "    'times_pre_pmt_36m' : sum,\n",
    "    'times_pre_pmt_48m' : sum\n",
    "\n",
    "    }).reset_index()\n",
    "    \n",
    "    return instl_pmt_grp2\n",
    "    "
   ]
  },
  {
   "cell_type": "code",
   "execution_count": 65,
   "metadata": {},
   "outputs": [],
   "source": [
    "instl_pmt_grp2 = installment_lagged_features(instl_pmt)"
   ]
  },
  {
   "cell_type": "code",
   "execution_count": 66,
   "metadata": {},
   "outputs": [
    {
     "data": {
      "text/plain": [
       "(339587, 16)"
      ]
     },
     "execution_count": 66,
     "metadata": {},
     "output_type": "execute_result"
    }
   ],
   "source": [
    "instl_pmt_grp2.shape"
   ]
  },
  {
   "cell_type": "code",
   "execution_count": null,
   "metadata": {},
   "outputs": [],
   "source": [
    "instl_pmt_grp2.to_csv('instl_pmt_grp2.csv', index = False)"
   ]
  },
  {
   "cell_type": "markdown",
   "metadata": {},
   "source": [
    "Finally we map data from the above aggrgated datasets on the training data"
   ]
  },
  {
   "cell_type": "code",
   "execution_count": 70,
   "metadata": {},
   "outputs": [],
   "source": [
    "# Mapping the data on train\n",
    "\n",
    "application_train_mapped = pd.merge(application_train, pos_cash_grpby, 'left', on = 'SK_ID_CURR', suffixes=('',''))\n",
    "application_train_mapped = pd.merge(application_train_mapped, installment_var, 'left', on = 'SK_ID_CURR', suffixes=('',''))\n",
    "application_train_mapped = pd.merge(application_train_mapped, cc_grpby, 'left', on = 'SK_ID_CURR', suffixes=('',''))\n",
    "application_train_mapped = pd.merge(application_train_mapped, previous_application_grpby, 'left', on = 'SK_ID_CURR', suffixes=('',''))\n",
    "application_train_mapped = pd.merge(application_train_mapped, avg_trade_gap, 'left', on = 'SK_ID_CURR', suffixes=('',''))\n",
    "application_train_mapped = pd.merge(application_train_mapped, instl_pmt_grp2, 'left', on = 'SK_ID_CURR', suffixes=('',''))"
   ]
  },
  {
   "cell_type": "code",
   "execution_count": null,
   "metadata": {},
   "outputs": [],
   "source": [
    "# Store for later use\n",
    "application_train_mapped.to_csv('application_train_mapped.csv')"
   ]
  }
 ],
 "metadata": {
  "kernelspec": {
   "display_name": "Python 3",
   "language": "python",
   "name": "python3"
  },
  "language_info": {
   "codemirror_mode": {
    "name": "ipython",
    "version": 3
   },
   "file_extension": ".py",
   "mimetype": "text/x-python",
   "name": "python",
   "nbconvert_exporter": "python",
   "pygments_lexer": "ipython3",
   "version": "3.8.5"
  }
 },
 "nbformat": 4,
 "nbformat_minor": 4
}
